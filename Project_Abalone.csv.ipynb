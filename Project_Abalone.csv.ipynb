{
 "cells": [
  {
   "cell_type": "code",
   "execution_count": null,
   "id": "e71380bf",
   "metadata": {},
   "outputs": [],
   "source": [
    "import numpy as np\n",
    "import pandas as pd\n",
    "import scipy\n",
    "import sklearn\n",
    "from sklearn.preprocessing import LabelEncoder\n",
    "from sklearn.preprocessing import StandardScaler\n",
    "import seaborn as sns\n",
    "from sklearn.model_selection import train_test_split\n",
    "from sklearn.linear_model import LinearRegression\n",
    "from sklearn.metrics import mean_squared_error,mean_absolute_error,r2_score\n",
    "import warnings\n",
    "warnings.filterwarnings('ignore')"
   ]
  },
  {
   "cell_type": "markdown",
   "id": "55232c4a",
   "metadata": {},
   "source": [
    "Loading File to the model"
   ]
  },
  {
   "cell_type": "code",
   "execution_count": null,
   "id": "877c7881",
   "metadata": {
    "scrolled": true
   },
   "outputs": [],
   "source": [
    "df=pd.read_csv('Abalone.csv')\n",
    "df"
   ]
  },
  {
   "cell_type": "markdown",
   "id": "929de100",
   "metadata": {},
   "source": [
    "EDA Process"
   ]
  },
  {
   "cell_type": "code",
   "execution_count": null,
   "id": "f67561f5",
   "metadata": {},
   "outputs": [],
   "source": [
    "df.sample(5)"
   ]
  },
  {
   "cell_type": "code",
   "execution_count": null,
   "id": "cb69c99e",
   "metadata": {},
   "outputs": [],
   "source": [
    "df.tail(3)"
   ]
  },
  {
   "cell_type": "code",
   "execution_count": null,
   "id": "de7a8dc6",
   "metadata": {},
   "outputs": [],
   "source": [
    "df.dtypes"
   ]
  },
  {
   "cell_type": "code",
   "execution_count": null,
   "id": "22e631cb",
   "metadata": {},
   "outputs": [],
   "source": [
    "df=pd.DataFrame(data=df)\n",
    "df"
   ]
  },
  {
   "cell_type": "code",
   "execution_count": null,
   "id": "60956302",
   "metadata": {},
   "outputs": [],
   "source": [
    "df.shape"
   ]
  },
  {
   "cell_type": "code",
   "execution_count": null,
   "id": "fe0af5e9",
   "metadata": {},
   "outputs": [],
   "source": [
    "df.isnull().sum()"
   ]
  },
  {
   "cell_type": "code",
   "execution_count": null,
   "id": "b8443d3f",
   "metadata": {},
   "outputs": [],
   "source": [
    "sns.heatmap(df.isnull())"
   ]
  },
  {
   "cell_type": "code",
   "execution_count": null,
   "id": "6e6cea3b",
   "metadata": {},
   "outputs": [],
   "source": [
    "sns.distplot(df['Diameter'])"
   ]
  },
  {
   "cell_type": "code",
   "execution_count": null,
   "id": "5264cbd7",
   "metadata": {},
   "outputs": [],
   "source": [
    "sns.distplot(df['Shell weight'])"
   ]
  },
  {
   "cell_type": "code",
   "execution_count": null,
   "id": "ce28a591",
   "metadata": {},
   "outputs": [],
   "source": [
    "df.columns"
   ]
  },
  {
   "cell_type": "code",
   "execution_count": null,
   "id": "e8ee281b",
   "metadata": {},
   "outputs": [],
   "source": [
    "df.iloc[:,0]"
   ]
  },
  {
   "cell_type": "code",
   "execution_count": null,
   "id": "448d79a0",
   "metadata": {},
   "outputs": [],
   "source": [
    "lencode=LabelEncoder()\n",
    "df['Sex']=lencode.fit_transform(df['Sex'])\n",
    "df"
   ]
  },
  {
   "cell_type": "code",
   "execution_count": null,
   "id": "45b779ea",
   "metadata": {},
   "outputs": [],
   "source": [
    "for i in df.columns:\n",
    "    sns.distplot(df[i])"
   ]
  },
  {
   "cell_type": "code",
   "execution_count": null,
   "id": "82e3bfb8",
   "metadata": {},
   "outputs": [],
   "source": [
    "sns.distplot(df['Height'])"
   ]
  },
  {
   "cell_type": "code",
   "execution_count": null,
   "id": "a89f980e",
   "metadata": {},
   "outputs": [],
   "source": [
    "sns.histplot(df['Height'],bins=20)"
   ]
  },
  {
   "cell_type": "code",
   "execution_count": null,
   "id": "aca8a6a7",
   "metadata": {},
   "outputs": [],
   "source": [
    "sns.histplot(df['Rings'],bins=20)"
   ]
  },
  {
   "cell_type": "code",
   "execution_count": null,
   "id": "ff933dfb",
   "metadata": {},
   "outputs": [],
   "source": [
    "sns.kdeplot(df['Whole weight'])"
   ]
  },
  {
   "cell_type": "code",
   "execution_count": null,
   "id": "cafc120b",
   "metadata": {},
   "outputs": [],
   "source": [
    "sns.regplot(x='Shell weight',y='Height',data=df)"
   ]
  },
  {
   "cell_type": "code",
   "execution_count": null,
   "id": "e88dd1d2",
   "metadata": {},
   "outputs": [],
   "source": [
    "sns.regplot(x='Rings',y='Diameter',data=df)"
   ]
  },
  {
   "cell_type": "code",
   "execution_count": null,
   "id": "52f84d3e",
   "metadata": {},
   "outputs": [],
   "source": [
    "sns.lmplot(x='Height',y='Diameter',data=df)"
   ]
  },
  {
   "cell_type": "code",
   "execution_count": null,
   "id": "c1a45404",
   "metadata": {},
   "outputs": [],
   "source": [
    "sns.pairplot(df)"
   ]
  },
  {
   "cell_type": "code",
   "execution_count": null,
   "id": "38e0058b",
   "metadata": {},
   "outputs": [],
   "source": [
    "df.describe()"
   ]
  },
  {
   "cell_type": "markdown",
   "id": "5288f71f",
   "metadata": {},
   "source": [
    "Observations\n",
    "Mean of height column is greater than median,hence it is right skewed.Similar with whole weight/shucked weight.\n",
    "Standard deviation is high in whole weight,shucked weight it means data spread is high.\n",
    "high gap between 75th percentile and max is present in rings.so few outliers are present.\n"
   ]
  },
  {
   "cell_type": "code",
   "execution_count": null,
   "id": "079f5a47",
   "metadata": {},
   "outputs": [],
   "source": [
    "df.skew()"
   ]
  },
  {
   "cell_type": "code",
   "execution_count": null,
   "id": "05e2cf77",
   "metadata": {},
   "outputs": [],
   "source": [
    "import numpy as np\n",
    "#df['Height']=np.Log(df['Height'])\n",
    "df['Height']=np.sqrt(df['Height'])\n",
    "df.skew()"
   ]
  },
  {
   "cell_type": "code",
   "execution_count": null,
   "id": "105c4bfd",
   "metadata": {},
   "outputs": [],
   "source": [
    "df=np.sqrt(df)\n",
    "df.skew()"
   ]
  },
  {
   "cell_type": "code",
   "execution_count": null,
   "id": "f793e7da",
   "metadata": {},
   "outputs": [],
   "source": [
    "sns.histplot(df['Height'],bins=20)"
   ]
  },
  {
   "cell_type": "code",
   "execution_count": null,
   "id": "cf292e1c",
   "metadata": {},
   "outputs": [],
   "source": [
    "#detecting outliers\n",
    "from scipy.stats import zscore\n",
    "dfzscore=np.abs(zscore(df))\n",
    "print(np.where(dfzscore>3))"
   ]
  },
  {
   "cell_type": "code",
   "execution_count": null,
   "id": "886e14a7",
   "metadata": {},
   "outputs": [],
   "source": [
    "dfnew=df[(dfzscore<3).all(axis=1)]\n",
    "print('dfnew.shape=',dfnew.shape)\n",
    "\n",
    "df=dfnew"
   ]
  },
  {
   "cell_type": "code",
   "execution_count": null,
   "id": "00ea31f8",
   "metadata": {},
   "outputs": [],
   "source": [
    "df.corr()"
   ]
  },
  {
   "cell_type": "code",
   "execution_count": null,
   "id": "379017f4",
   "metadata": {},
   "outputs": [],
   "source": [
    "sns.heatmap(df.corr(),cmap=\"Blues\",annot=True)"
   ]
  },
  {
   "cell_type": "code",
   "execution_count": null,
   "id": "9767c9d8",
   "metadata": {},
   "outputs": [],
   "source": [
    "from statsmodels.stats.outliers_influence import variance_inflation_factor"
   ]
  },
  {
   "cell_type": "code",
   "execution_count": null,
   "id": "3423d767",
   "metadata": {},
   "outputs": [],
   "source": [
    "x=df.drop('Rings',axis=1)\n",
    "x"
   ]
  },
  {
   "cell_type": "code",
   "execution_count": null,
   "id": "0bc2e217",
   "metadata": {},
   "outputs": [],
   "source": [
    "x.shape"
   ]
  },
  {
   "cell_type": "code",
   "execution_count": null,
   "id": "652672c0",
   "metadata": {},
   "outputs": [],
   "source": [
    "x.shape[1]"
   ]
  },
  {
   "cell_type": "code",
   "execution_count": null,
   "id": "b93a1dc5",
   "metadata": {},
   "outputs": [],
   "source": [
    "y=df.iloc[:,-1]\n",
    "y"
   ]
  },
  {
   "cell_type": "code",
   "execution_count": null,
   "id": "10224aea",
   "metadata": {},
   "outputs": [],
   "source": [
    "def vif_calc():\n",
    "    vif=pd.DataFrame()\n",
    "    vif[\"VIF Factor\"]=[variance_inflation_factor(x.values,i) for i in range(x.shape[1])]\n",
    "    vif['features']=x.columns\n",
    "    print(vif)"
   ]
  },
  {
   "cell_type": "code",
   "execution_count": null,
   "id": "297c4732",
   "metadata": {},
   "outputs": [],
   "source": [
    "vif_calc()"
   ]
  },
  {
   "cell_type": "markdown",
   "id": "1e20f32d",
   "metadata": {},
   "source": [
    "Data Cleansing"
   ]
  },
  {
   "cell_type": "code",
   "execution_count": null,
   "id": "abae9bd0",
   "metadata": {},
   "outputs": [],
   "source": [
    "df.drop(['Length','Shucked weight'],axis=1,inplace=True)\n",
    "df"
   ]
  },
  {
   "cell_type": "code",
   "execution_count": null,
   "id": "a0a2dbe9",
   "metadata": {},
   "outputs": [],
   "source": [
    "x=df.iloc[:,:-1]\n",
    "x"
   ]
  },
  {
   "cell_type": "code",
   "execution_count": null,
   "id": "4f0533f6",
   "metadata": {},
   "outputs": [],
   "source": [
    "x.shape"
   ]
  },
  {
   "cell_type": "code",
   "execution_count": null,
   "id": "50ab7c1f",
   "metadata": {},
   "outputs": [],
   "source": [
    "vif_calc()"
   ]
  },
  {
   "cell_type": "code",
   "execution_count": null,
   "id": "101a2804",
   "metadata": {},
   "outputs": [],
   "source": [
    "sns.heatmap(df.corr(),annot=True)"
   ]
  },
  {
   "cell_type": "code",
   "execution_count": null,
   "id": "0e0c2c3b",
   "metadata": {},
   "outputs": [],
   "source": [
    "y.shape"
   ]
  },
  {
   "cell_type": "code",
   "execution_count": null,
   "id": "0e116fd0",
   "metadata": {},
   "outputs": [],
   "source": [
    "scale=StandardScaler()\n",
    "x=scale.fit_transform(x)\n",
    "x"
   ]
  },
  {
   "cell_type": "code",
   "execution_count": null,
   "id": "5549ac5a",
   "metadata": {},
   "outputs": [],
   "source": [
    "xtrain,xtest,ytrain,ytest=train_test_split(x,y,test_size=0.30,random_state=45)"
   ]
  },
  {
   "cell_type": "code",
   "execution_count": null,
   "id": "63633ba7",
   "metadata": {},
   "outputs": [],
   "source": [
    "xtrain.shape"
   ]
  },
  {
   "cell_type": "code",
   "execution_count": null,
   "id": "48229047",
   "metadata": {},
   "outputs": [],
   "source": [
    "ytrain.shape"
   ]
  },
  {
   "cell_type": "code",
   "execution_count": null,
   "id": "de73714c",
   "metadata": {},
   "outputs": [],
   "source": [
    "xtest.shape"
   ]
  },
  {
   "cell_type": "code",
   "execution_count": null,
   "id": "5210aed2",
   "metadata": {},
   "outputs": [],
   "source": [
    "ytest.shape"
   ]
  },
  {
   "cell_type": "code",
   "execution_count": null,
   "id": "559f2f0b",
   "metadata": {},
   "outputs": [],
   "source": [
    "lr=LinearRegression()\n",
    "lr.fit(xtrain,ytrain)\n",
    "lr.coef_"
   ]
  },
  {
   "cell_type": "code",
   "execution_count": null,
   "id": "a9959109",
   "metadata": {},
   "outputs": [],
   "source": [
    "features=['Gender','Diameter','Height','Whole weight','Viscera weight','Shell weight']\n",
    "list(zip(lr.coef_,features))"
   ]
  },
  {
   "cell_type": "code",
   "execution_count": null,
   "id": "02864c75",
   "metadata": {},
   "outputs": [],
   "source": [
    "cfdf=pd.DataFrame(data=lr.coef_,index=features)\n",
    "cfdf"
   ]
  },
  {
   "cell_type": "code",
   "execution_count": null,
   "id": "431b3372",
   "metadata": {},
   "outputs": [],
   "source": [
    "lr.intercept_"
   ]
  },
  {
   "cell_type": "code",
   "execution_count": null,
   "id": "544cf063",
   "metadata": {},
   "outputs": [],
   "source": [
    "lr.score(xtrain,ytrain)"
   ]
  },
  {
   "cell_type": "code",
   "execution_count": null,
   "id": "933baf66",
   "metadata": {},
   "outputs": [],
   "source": [
    "pred=lr.predict(xtest)\n",
    "pred"
   ]
  },
  {
   "cell_type": "code",
   "execution_count": null,
   "id": "aec087a9",
   "metadata": {},
   "outputs": [],
   "source": [
    "print(\"Predicted values\",pred)"
   ]
  },
  {
   "cell_type": "code",
   "execution_count": null,
   "id": "57fa8f13",
   "metadata": {},
   "outputs": [],
   "source": [
    "preddf=pd.DataFrame(data=pred)\n",
    "preddf"
   ]
  },
  {
   "cell_type": "code",
   "execution_count": null,
   "id": "283575c8",
   "metadata": {},
   "outputs": [],
   "source": [
    "lr.score(xtest,ytest)"
   ]
  },
  {
   "cell_type": "code",
   "execution_count": null,
   "id": "3a2389ac",
   "metadata": {},
   "outputs": [],
   "source": [
    "print('Mean absolute error::',mean_absolute_error(ytest,pred))\n",
    "print('Mean squared error::',mean_squared_error(ytest,pred))\n",
    "print('Root mean square::',np.sqrt(mean_squared_error(ytest,pred)))"
   ]
  },
  {
   "cell_type": "code",
   "execution_count": null,
   "id": "e883cde3",
   "metadata": {},
   "outputs": [],
   "source": [
    "print('R2 score::',r2_score(ytest,pred))"
   ]
  },
  {
   "cell_type": "code",
   "execution_count": null,
   "id": "e76a36bc",
   "metadata": {},
   "outputs": [],
   "source": [
    "t=np.array([2,0.365,0.095,0.5140,0.1010,0.1500])"
   ]
  },
  {
   "cell_type": "code",
   "execution_count": null,
   "id": "c72e3021",
   "metadata": {},
   "outputs": [],
   "source": [
    "t"
   ]
  },
  {
   "cell_type": "code",
   "execution_count": null,
   "id": "60e8cd6d",
   "metadata": {},
   "outputs": [],
   "source": [
    "t.shape"
   ]
  },
  {
   "cell_type": "code",
   "execution_count": null,
   "id": "9a0126b2",
   "metadata": {},
   "outputs": [],
   "source": [
    "t=t.reshape(1,-1)"
   ]
  },
  {
   "cell_type": "code",
   "execution_count": null,
   "id": "736aa333",
   "metadata": {},
   "outputs": [],
   "source": [
    "lr.predict(t)"
   ]
  },
  {
   "cell_type": "markdown",
   "id": "07a87279",
   "metadata": {},
   "source": [
    "# Model Training\n"
   ]
  },
  {
   "cell_type": "markdown",
   "id": "e2403e52",
   "metadata": {},
   "source": [
    "Decision Tree Regressor"
   ]
  },
  {
   "cell_type": "code",
   "execution_count": null,
   "id": "f4a3ed05",
   "metadata": {},
   "outputs": [],
   "source": [
    "from sklearn.tree import DecisionTreeRegressor\n",
    "from sklearn.neighbors import KNeighborsRegressor\n",
    "\n",
    "from sklearn.svm import SVR"
   ]
  },
  {
   "cell_type": "code",
   "execution_count": null,
   "id": "c51d81f3",
   "metadata": {},
   "outputs": [],
   "source": [
    "dtr=DecisionTreeRegressor(criterion='mse')\n",
    "dtr.fit(xtrain,ytrain)\n",
    "print('dtc score:',dtr.score(xtrain,ytrain))\n",
    "\n",
    "dtrpredict=dtr.predict(xtest)\n",
    "print('dtc r2_score:',r2_score(ytest,dtrpredict))\n",
    "\n",
    "print('Mean squared error of dtr=',mean_squared_error(ytest,dtrpredict))\n",
    "print('Root mean square of dtc=',np.sqrt(mean_squared_error(ytest,dtrpredict)))"
   ]
  },
  {
   "cell_type": "code",
   "execution_count": null,
   "id": "a4d36244",
   "metadata": {},
   "outputs": [],
   "source": [
    "knr=KNeighborsRegressor\n",
    "knr.fit(xtrain,ytrain)\n",
    "print('dtc score:',knr.score(xtrain,ytrain))\n",
    "\n",
    "dtrpredict=dtr.predict(xtest)\n",
    "print('dtc r2_score:',r2_score(ytest,knrpredict))\n",
    "\n",
    "print('Mean squared error of dtc=',mean_squared_error(ytest,knrpredict))\n",
    "print('Root mean square of dtc=',np.sqrt(mean_squared_error(ytest,knrpredict)))"
   ]
  },
  {
   "cell_type": "code",
   "execution_count": null,
   "id": "ad5dfff2",
   "metadata": {},
   "outputs": [],
   "source": [
    "svr1=SVR()\n",
    "svr1.fit(xtrain,ytrain)\n",
    "print('dtc score:',svr1.score(xtrain,ytrain))\n",
    "\n",
    "svr1predict=svr1.predict(xtest)\n",
    "print('dtc r2_score:',r2_score(ytest,svr1predict))\n",
    "\n",
    "print('Mean squared error of dtc=',mean_squared_error(ytest,svr1predict))\n",
    "print('Root mean square of dtc=',np.sqrt(mean_squared_error(ytest,svr1predict)))"
   ]
  },
  {
   "cell_type": "code",
   "execution_count": null,
   "id": "9ca69932",
   "metadata": {},
   "outputs": [],
   "source": [
    "from sklearn.linear_model import SGDRegressor\n",
    "\n",
    "sgd=SGDRegressor()\n",
    "sgd.fit(xtrain,ytrain)\n",
    "print('dtc score:',sgd.score(xtrain,ytrain))\n",
    "\n",
    "sgd1predict=sgd.predict(xtest)\n",
    "print('dtc r2_score:',r2_score(ytest,sgd1predict))\n",
    "\n",
    "print('Mean squared error of dtc=',mean_squared_error(ytest,sgd1predict))\n",
    "print('Root mean square of dtc=',np.sqrt(mean_squared_error(ytest,sgd1predict)))"
   ]
  },
  {
   "cell_type": "markdown",
   "id": "69732b9e",
   "metadata": {},
   "source": [
    "SAVING THE BEST MODEL"
   ]
  },
  {
   "cell_type": "code",
   "execution_count": null,
   "id": "68624555",
   "metadata": {},
   "outputs": [],
   "source": [
    "import joblib\n",
    "\n",
    "joblib.dump(dtr,\"dtrmodel.obj\")\n",
    "dtrloadmodel=joblib.load(\"dtrmodel.obj\")\n",
    "dtrloadmodel.predict(xtest)"
   ]
  },
  {
   "cell_type": "code",
   "execution_count": null,
   "id": "91f80598",
   "metadata": {},
   "outputs": [],
   "source": []
  },
  {
   "cell_type": "code",
   "execution_count": null,
   "id": "d49a56f9",
   "metadata": {},
   "outputs": [],
   "source": []
  },
  {
   "cell_type": "code",
   "execution_count": null,
   "id": "e47c374a",
   "metadata": {},
   "outputs": [],
   "source": []
  },
  {
   "cell_type": "code",
   "execution_count": null,
   "id": "905f1556",
   "metadata": {},
   "outputs": [],
   "source": []
  },
  {
   "cell_type": "code",
   "execution_count": null,
   "id": "686e63bc",
   "metadata": {},
   "outputs": [],
   "source": []
  },
  {
   "cell_type": "code",
   "execution_count": null,
   "id": "89923f6b",
   "metadata": {},
   "outputs": [],
   "source": []
  },
  {
   "cell_type": "code",
   "execution_count": null,
   "id": "87cb2e4c",
   "metadata": {},
   "outputs": [],
   "source": []
  },
  {
   "cell_type": "code",
   "execution_count": null,
   "id": "aa78bdba",
   "metadata": {},
   "outputs": [],
   "source": []
  },
  {
   "cell_type": "code",
   "execution_count": null,
   "id": "142f4d3d",
   "metadata": {},
   "outputs": [],
   "source": []
  }
 ],
 "metadata": {
  "kernelspec": {
   "display_name": "Python 3 (ipykernel)",
   "language": "python",
   "name": "python3"
  },
  "language_info": {
   "codemirror_mode": {
    "name": "ipython",
    "version": 3
   },
   "file_extension": ".py",
   "mimetype": "text/x-python",
   "name": "python",
   "nbconvert_exporter": "python",
   "pygments_lexer": "ipython3",
   "version": "3.9.12"
  }
 },
 "nbformat": 4,
 "nbformat_minor": 5
}
